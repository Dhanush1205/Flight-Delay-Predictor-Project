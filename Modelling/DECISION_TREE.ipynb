{
 "cells": [
  {
   "cell_type": "code",
   "execution_count": null,
   "metadata": {
    "vscode": {
     "languageId": "plaintext"
    }
   },
   "outputs": [],
   "source": [
    "# Cell 1 - Import required libraries\n",
    "import pandas as pd\n",
    "import numpy as np\n",
    "from sklearn.tree import DecisionTreeClassifier\n",
    "from sklearn.model_selection import train_test_split\n",
    "from sklearn.preprocessing import LabelEncoder\n",
    "from sklearn.metrics import accuracy_score, classification_report, confusion_matrix\n",
    "import matplotlib.pyplot as plt\n",
    "import seaborn as sns\n",
    "from sklearn.tree import plot_tree"
   ]
  },
  {
   "cell_type": "code",
   "execution_count": null,
   "metadata": {
    "vscode": {
     "languageId": "plaintext"
    }
   },
   "outputs": [],
   "source": [
    "# Cell 2 - Load and preprocess the data\n",
    "# Import dataset \n",
    "df = pd.read_csv('../Data/Processed_data15.csv')\n",
    "\n",
    "# Display first few rows and info about the dataset\n",
    "print(\"First few rows of the dataset:\")\n",
    "display(df.head())\n",
    "print(\"\\nDataset information:\")\n",
    "display(df.info())"
   ]
  },
  {
   "cell_type": "code",
   "execution_count": null,
   "metadata": {
    "vscode": {
     "languageId": "plaintext"
    }
   },
   "outputs": [],
   "source": [
    "# Cell 3 - Prepare the data\n",
    "# Label Encoding\n",
    "le_carrier = LabelEncoder()\n",
    "df['carrier'] = le_carrier.fit_transform(df['carrier'])\n",
    "\n",
    "le_dest = LabelEncoder()\n",
    "df['dest'] = le_dest.fit_transform(df['dest'])\n",
    "\n",
    "le_origin = LabelEncoder()\n",
    "df['origin'] = le_origin.fit_transform(df['origin'])\n",
    "\n",
    "# Converting Pandas DataFrame into a Numpy array\n",
    "X = df.iloc[:, 0:6].values # from column(years) to column(distance)\n",
    "y = df['delayed']\n",
    "\n",
    "# Split the data\n",
    "X_train, X_test, y_train, y_test = train_test_split(X, y, test_size=0.25, random_state=61)"
   ]
  },
  {
   "cell_type": "code",
   "execution_count": null,
   "metadata": {
    "vscode": {
     "languageId": "plaintext"
    }
   },
   "outputs": [],
   "source": [
    "# Cell 4 - Create and train Decision Tree\n",
    "# Create Decision Tree classifier\n",
    "dt_classifier = DecisionTreeClassifier(max_depth=3, random_state=42)\n",
    "dt_classifier.fit(X_train, y_train)\n",
    "\n",
    "# Make predictions\n",
    "y_pred = dt_classifier.predict(X_test)"
   ]
  },
  {
   "cell_type": "code",
   "execution_count": null,
   "metadata": {
    "vscode": {
     "languageId": "plaintext"
    }
   },
   "outputs": [],
   "source": [
    "# Cell 5 - Model Evaluation\n",
    "# Print accuracy score\n",
    "print(\"Accuracy Score:\", accuracy_score(y_test, y_pred))\n",
    "\n",
    "# Print classification report\n",
    "print(\"\\nClassification Report:\")\n",
    "print(classification_report(y_test, y_pred))\n",
    "\n",
    "# Create confusion matrix\n",
    "cm = confusion_matrix(y_test, y_pred)\n",
    "plt.figure(figsize=(8, 6))\n",
    "sns.heatmap(cm, annot=True, fmt='d', cmap='Blues')\n",
    "plt.title('Confusion Matrix')\n",
    "plt.ylabel('True Label')\n",
    "plt.xlabel('Predicted Label')\n",
    "plt.show()"
   ]
  },
  {
   "cell_type": "code",
   "execution_count": null,
   "metadata": {
    "vscode": {
     "languageId": "plaintext"
    }
   },
   "outputs": [],
   "source": [
    "# Cell 6 - Visualize Decision Tree\n",
    "plt.figure(figsize=(20, 10))\n",
    "feature_names = ['Year', 'Month', 'Day', 'Carrier', 'Origin', 'Destination']\n",
    "class_names = ['On Time', 'Delayed']\n",
    "plot_tree(dt_classifier, \n",
    "          feature_names=feature_names,\n",
    "          class_names=class_names,\n",
    "          filled=True,\n",
    "          rounded=True,\n",
    "          fontsize=10)\n",
    "plt.title(\"Decision Tree Visualization\")\n",
    "plt.show()"
   ]
  },
  {
   "cell_type": "code",
   "execution_count": null,
   "metadata": {
    "vscode": {
     "languageId": "plaintext"
    }
   },
   "outputs": [],
   "source": [
    "# Cell 7 - Feature Importance\n",
    "# Get feature importance\n",
    "importances = dt_classifier.feature_importances_\n",
    "feature_importance = pd.DataFrame({\n",
    "    'feature': feature_names,\n",
    "    'importance': importances\n",
    "})\n",
    "feature_importance = feature_importance.sort_values('importance', ascending=False)\n",
    "\n",
    "# Plot feature importance\n",
    "plt.figure(figsize=(10, 6))\n",
    "sns.barplot(x='importance', y='feature', data=feature_importance)\n",
    "plt.title('Feature Importance in Decision Tree Model')\n",
    "plt.xlabel('Importance')\n",
    "plt.ylabel('Feature')\n",
    "plt.show()"
   ]
  },
  {
   "cell_type": "code",
   "execution_count": null,
   "metadata": {
    "vscode": {
     "languageId": "plaintext"
    }
   },
   "outputs": [],
   "source": [
    "# Cell 8 - Save the model (optional)\n",
    "import pickle\n",
    "\n",
    "# Save the model\n",
    "with open('../models/decision_tree_model.pkl', 'wb') as f:\n",
    "    pickle.dump(dt_classifier, f)\n",
    "\n",
    "print(\"Model saved successfully!\")"
   ]
  }
 ],
 "metadata": {
  "language_info": {
   "name": "python"
  }
 },
 "nbformat": 4,
 "nbformat_minor": 2
}
